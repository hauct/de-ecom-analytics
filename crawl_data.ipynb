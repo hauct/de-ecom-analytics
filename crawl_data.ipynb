{
 "cells": [
  {
   "cell_type": "code",
   "execution_count": 1,
   "metadata": {},
   "outputs": [],
   "source": [
    "import numpy as np\n",
    "from time import sleep\n",
    "import random\n",
    "import pandas as pd\n",
    "\n",
    "from selenium import webdriver\n",
    "from selenium.webdriver import ActionChains\n",
    "from webdriver_manager.chrome import ChromeDriverManager\n",
    "from selenium.webdriver.common.keys import Keys\n",
    "from selenium.webdriver.chrome.service import Service\n",
    "from selenium.common.exceptions import NoSuchElementException, ElementNotInteractableException\n",
    "from selenium.webdriver.common.by import By"
   ]
  },
  {
   "cell_type": "code",
   "execution_count": 2,
   "metadata": {},
   "outputs": [],
   "source": [
    "# Set the path to your webdriver\n",
    "service = Service('chromedriver.exe')\n",
    "\n",
    "# Initiate the browser\n",
    "driver = webdriver.Chrome(service=service)\n",
    "\n",
    "# Open a webpage\n",
    "driver.get('https://www.lazada.vn/catalog/?_keyori=ss&from=search_history&page=1&q=%C4%91i%E1%BB%87n%20tho%E1%BA%A1i%20di%20%C4%91%E1%BB%99ng&spm=a2o4n.home-vn.search.4.19053bdcPI1FgK&sugg=%C4%91i%E1%BB%87n%20tho%E1%BA%A1i%20di%20%C4%91%E1%BB%99ng_3_1')\n",
    "sleep(random.randint(3,4))"
   ]
  },
  {
   "cell_type": "code",
   "execution_count": 3,
   "metadata": {},
   "outputs": [],
   "source": [
    "elems = driver.find_elements(By.CSS_SELECTOR, \".RfADt [href]\")\n",
    "title = [elem.get_attribute('title') for elem in elems]\n",
    "link = [elem.get_attribute('href') for elem in elems]"
   ]
  },
  {
   "cell_type": "code",
   "execution_count": 4,
   "metadata": {},
   "outputs": [
    {
     "data": {
      "text/plain": [
       "['Nguyễn X.Chứng nhận đã mua hàng',\n",
       " 'QuyênChứng nhận đã mua hàng',\n",
       " 'Hoa M.Chứng nhận đã mua hàng',\n",
       " 'Nguyễn S.Chứng nhận đã mua hàng',\n",
       " 'Võ T.Chứng nhận đã mua hàng']"
      ]
     },
     "execution_count": 4,
     "metadata": {},
     "output_type": "execute_result"
    }
   ],
   "source": [
    "driver.get(link[0])\n",
    "\n",
    "name_elems = driver.find_elements(By.CSS_SELECTOR, \".lazyload-wrapper .pdp-mod-review .mod-reviews .middle\")\n",
    "name_comment = [elem.text for elem in name_elems]\n",
    "name_comment"
   ]
  },
  {
   "cell_type": "code",
   "execution_count": 8,
   "metadata": {},
   "outputs": [
    {
     "data": {
      "text/plain": [
       "['Đã nhận được hàng, sản phẩm mới còn nguyên siêu, màn hình rõ, loa to còn độ bền thì chưa biết thế nào, tặng shop 5 sao',\n",
       " 'Chúc sốp một mùa giáng sinh an lành và hạnh phúc ❤️❤️',\n",
       " 'đã nhận giao nhanh hàng giống mô tả còn bên hay như nào để xem đã',\n",
       " 'Hàng ok loa to gọi nghe tốt dành cho ng lớn tuổi ok độ bền thì dùng mới biết',\n",
       " 'Thời lượng pin ấn tượng., Chất lượng âm thanh tuyệt vời!, Thiết kế sang trọng và hiện đại., Loa to và rõ., Điện thoại bền và lâu bền.,']"
      ]
     },
     "execution_count": 8,
     "metadata": {},
     "output_type": "execute_result"
    }
   ],
   "source": [
    "content_elems = driver.find_elements(By.CSS_SELECTOR, \".item-content .content\")\n",
    "content_comment = [elem.text for elem in content_elems]\n",
    "\n",
    "content_comment"
   ]
  },
  {
   "cell_type": "code",
   "execution_count": 11,
   "metadata": {},
   "outputs": [
    {
     "data": {
      "text/plain": [
       "['Nhóm Màu:V900 Đen',\n",
       " 'Nhóm Màu:V900 Plus Xanh',\n",
       " 'Nhóm Màu:Good V900 Xanh',\n",
       " 'Nhóm Màu:V900 Đen',\n",
       " 'Nhóm Màu:Good V900 Đen']"
      ]
     },
     "execution_count": 11,
     "metadata": {},
     "output_type": "execute_result"
    }
   ],
   "source": [
    "skuinfo_elems = driver.find_elements(By.CSS_SELECTOR, \".item-content .skuInfo\")\n",
    "skuinfo_comment = [elem.text for elem in skuinfo_elems]\n",
    "skuinfo_comment"
   ]
  },
  {
   "cell_type": "code",
   "execution_count": 12,
   "metadata": {},
   "outputs": [
    {
     "data": {
      "text/plain": [
       "['0', '0', '0', '0', '0']"
      ]
     },
     "execution_count": 12,
     "metadata": {},
     "output_type": "execute_result"
    }
   ],
   "source": [
    "likecount_elems = driver.find_elements(By.CSS_SELECTOR, \".item-content .bottom .left .left-content\")\n",
    "likecount_comment = [elem.text for elem in likecount_elems]\n",
    "likecount_comment"
   ]
  },
  {
   "cell_type": "code",
   "execution_count": 13,
   "metadata": {},
   "outputs": [],
   "source": [
    "df4 = pd.DataFrame(list(zip(name_comment, content_comment, skuinfo_comment, likecount_comment))\\\n",
    "                   , columns=['name_comment', 'content_comment', 'skuinfo_comment', 'likecount_comment'])"
   ]
  },
  {
   "cell_type": "code",
   "execution_count": 15,
   "metadata": {},
   "outputs": [],
   "source": [
    "df4.insert(0, 'link_item', link[0])"
   ]
  },
  {
   "cell_type": "code",
   "execution_count": 16,
   "metadata": {},
   "outputs": [
    {
     "data": {
      "text/html": [
       "<div>\n",
       "<style scoped>\n",
       "    .dataframe tbody tr th:only-of-type {\n",
       "        vertical-align: middle;\n",
       "    }\n",
       "\n",
       "    .dataframe tbody tr th {\n",
       "        vertical-align: top;\n",
       "    }\n",
       "\n",
       "    .dataframe thead th {\n",
       "        text-align: right;\n",
       "    }\n",
       "</style>\n",
       "<table border=\"1\" class=\"dataframe\">\n",
       "  <thead>\n",
       "    <tr style=\"text-align: right;\">\n",
       "      <th></th>\n",
       "      <th>link_item</th>\n",
       "      <th>name_comment</th>\n",
       "      <th>content_comment</th>\n",
       "      <th>skuinfo_comment</th>\n",
       "      <th>likecount_comment</th>\n",
       "    </tr>\n",
       "  </thead>\n",
       "  <tbody>\n",
       "    <tr>\n",
       "      <th>0</th>\n",
       "      <td>https://www.lazada.vn/products/dien-thoai-nguo...</td>\n",
       "      <td>Nguyễn X.Chứng nhận đã mua hàng</td>\n",
       "      <td>Đã nhận được hàng, sản phẩm mới còn nguyên siê...</td>\n",
       "      <td>Nhóm Màu:V900 Đen</td>\n",
       "      <td>0</td>\n",
       "    </tr>\n",
       "    <tr>\n",
       "      <th>1</th>\n",
       "      <td>https://www.lazada.vn/products/dien-thoai-nguo...</td>\n",
       "      <td>QuyênChứng nhận đã mua hàng</td>\n",
       "      <td>Chúc sốp một mùa giáng sinh an lành và hạnh ph...</td>\n",
       "      <td>Nhóm Màu:V900 Plus Xanh</td>\n",
       "      <td>0</td>\n",
       "    </tr>\n",
       "    <tr>\n",
       "      <th>2</th>\n",
       "      <td>https://www.lazada.vn/products/dien-thoai-nguo...</td>\n",
       "      <td>Hoa M.Chứng nhận đã mua hàng</td>\n",
       "      <td>đã nhận giao nhanh hàng giống mô tả còn bên ha...</td>\n",
       "      <td>Nhóm Màu:Good V900 Xanh</td>\n",
       "      <td>0</td>\n",
       "    </tr>\n",
       "    <tr>\n",
       "      <th>3</th>\n",
       "      <td>https://www.lazada.vn/products/dien-thoai-nguo...</td>\n",
       "      <td>Nguyễn S.Chứng nhận đã mua hàng</td>\n",
       "      <td>Hàng ok loa to gọi nghe tốt dành cho ng lớn tu...</td>\n",
       "      <td>Nhóm Màu:V900 Đen</td>\n",
       "      <td>0</td>\n",
       "    </tr>\n",
       "    <tr>\n",
       "      <th>4</th>\n",
       "      <td>https://www.lazada.vn/products/dien-thoai-nguo...</td>\n",
       "      <td>Võ T.Chứng nhận đã mua hàng</td>\n",
       "      <td>Thời lượng pin ấn tượng., Chất lượng âm thanh ...</td>\n",
       "      <td>Nhóm Màu:Good V900 Đen</td>\n",
       "      <td>0</td>\n",
       "    </tr>\n",
       "  </tbody>\n",
       "</table>\n",
       "</div>"
      ],
      "text/plain": [
       "                                           link_item  \\\n",
       "0  https://www.lazada.vn/products/dien-thoai-nguo...   \n",
       "1  https://www.lazada.vn/products/dien-thoai-nguo...   \n",
       "2  https://www.lazada.vn/products/dien-thoai-nguo...   \n",
       "3  https://www.lazada.vn/products/dien-thoai-nguo...   \n",
       "4  https://www.lazada.vn/products/dien-thoai-nguo...   \n",
       "\n",
       "                      name_comment  \\\n",
       "0  Nguyễn X.Chứng nhận đã mua hàng   \n",
       "1      QuyênChứng nhận đã mua hàng   \n",
       "2     Hoa M.Chứng nhận đã mua hàng   \n",
       "3  Nguyễn S.Chứng nhận đã mua hàng   \n",
       "4      Võ T.Chứng nhận đã mua hàng   \n",
       "\n",
       "                                     content_comment          skuinfo_comment  \\\n",
       "0  Đã nhận được hàng, sản phẩm mới còn nguyên siê...        Nhóm Màu:V900 Đen   \n",
       "1  Chúc sốp một mùa giáng sinh an lành và hạnh ph...  Nhóm Màu:V900 Plus Xanh   \n",
       "2  đã nhận giao nhanh hàng giống mô tả còn bên ha...  Nhóm Màu:Good V900 Xanh   \n",
       "3  Hàng ok loa to gọi nghe tốt dành cho ng lớn tu...        Nhóm Màu:V900 Đen   \n",
       "4  Thời lượng pin ấn tượng., Chất lượng âm thanh ...   Nhóm Màu:Good V900 Đen   \n",
       "\n",
       "  likecount_comment  \n",
       "0                 0  \n",
       "1                 0  \n",
       "2                 0  \n",
       "3                 0  \n",
       "4                 0  "
      ]
     },
     "execution_count": 16,
     "metadata": {},
     "output_type": "execute_result"
    }
   ],
   "source": [
    "df4.head()"
   ]
  },
  {
   "cell_type": "code",
   "execution_count": 25,
   "metadata": {},
   "outputs": [
    {
     "ename": "ElementClickInterceptedException",
     "evalue": "Message: element click intercepted: Element <button type=\"button\" class=\"next-btn next-btn-normal next-btn-medium next-pagination-item next\">...</button> is not clickable at point (788, 523). Other element would receive the click: <div class=\"baxia-dialog-mask\"></div>\n  (Session info: chrome=120.0.6099.130)\nStacktrace:\n\tGetHandleVerifier [0x00007FF705C22142+3514994]\n\t(No symbol) [0x00007FF705840CE2]\n\t(No symbol) [0x00007FF7056E76AA]\n\t(No symbol) [0x00007FF7057388F3]\n\t(No symbol) [0x00007FF7057368ED]\n\t(No symbol) [0x00007FF7057340EC]\n\t(No symbol) [0x00007FF705732EA5]\n\t(No symbol) [0x00007FF705726A0F]\n\t(No symbol) [0x00007FF705755FEA]\n\t(No symbol) [0x00007FF7057263B6]\n\t(No symbol) [0x00007FF705756490]\n\t(No symbol) [0x00007FF7057728F6]\n\t(No symbol) [0x00007FF705755D93]\n\t(No symbol) [0x00007FF705724BDC]\n\t(No symbol) [0x00007FF705725C64]\n\tGetHandleVerifier [0x00007FF705C4E16B+3695259]\n\tGetHandleVerifier [0x00007FF705CA6737+4057191]\n\tGetHandleVerifier [0x00007FF705C9E4E3+4023827]\n\tGetHandleVerifier [0x00007FF7059704F9+689705]\n\t(No symbol) [0x00007FF70584C048]\n\t(No symbol) [0x00007FF705848044]\n\t(No symbol) [0x00007FF7058481C9]\n\t(No symbol) [0x00007FF7058388C4]\n\tBaseThreadInitThunk [0x00007FFB72917344+20]\n\tRtlUserThreadStart [0x00007FFB741A26B1+33]\n",
     "output_type": "error",
     "traceback": [
      "\u001b[1;31m---------------------------------------------------------------------------\u001b[0m",
      "\u001b[1;31mElementClickInterceptedException\u001b[0m          Traceback (most recent call last)",
      "Cell \u001b[1;32mIn[25], line 2\u001b[0m\n\u001b[0;32m      1\u001b[0m next_pagination_cmt \u001b[38;5;241m=\u001b[39m driver\u001b[38;5;241m.\u001b[39mfind_element(\u001b[38;5;124m'\u001b[39m\u001b[38;5;124mxpath\u001b[39m\u001b[38;5;124m'\u001b[39m, \u001b[38;5;124m'\u001b[39m\u001b[38;5;124m/html/body/div[4]/div/div[10]/div[1]/div[2]/div/div/div/div[3]/div[2]/div/button[2]\u001b[39m\u001b[38;5;124m'\u001b[39m)\n\u001b[1;32m----> 2\u001b[0m next_pagination_cmt\u001b[38;5;241m.\u001b[39mclick()\n\u001b[0;32m      4\u001b[0m close_btn \u001b[38;5;241m=\u001b[39m driver\u001b[38;5;241m.\u001b[39mfind_element(\u001b[38;5;124m'\u001b[39m\u001b[38;5;124mxpath\u001b[39m\u001b[38;5;124m'\u001b[39m, \u001b[38;5;124m'\u001b[39m\u001b[38;5;124m/html/body/div[7]/div[2]/div\u001b[39m\u001b[38;5;124m'\u001b[39m)\n\u001b[0;32m      5\u001b[0m close_btn\u001b[38;5;241m.\u001b[39mclick()\n",
      "File \u001b[1;32mc:\\Users\\LAP14761-local\\anaconda3\\Lib\\site-packages\\selenium\\webdriver\\remote\\webelement.py:94\u001b[0m, in \u001b[0;36mWebElement.click\u001b[1;34m(self)\u001b[0m\n\u001b[0;32m     92\u001b[0m \u001b[38;5;28;01mdef\u001b[39;00m \u001b[38;5;21mclick\u001b[39m(\u001b[38;5;28mself\u001b[39m) \u001b[38;5;241m-\u001b[39m\u001b[38;5;241m>\u001b[39m \u001b[38;5;28;01mNone\u001b[39;00m:\n\u001b[0;32m     93\u001b[0m \u001b[38;5;250m    \u001b[39m\u001b[38;5;124;03m\"\"\"Clicks the element.\"\"\"\u001b[39;00m\n\u001b[1;32m---> 94\u001b[0m     \u001b[38;5;28mself\u001b[39m\u001b[38;5;241m.\u001b[39m_execute(Command\u001b[38;5;241m.\u001b[39mCLICK_ELEMENT)\n",
      "File \u001b[1;32mc:\\Users\\LAP14761-local\\anaconda3\\Lib\\site-packages\\selenium\\webdriver\\remote\\webelement.py:395\u001b[0m, in \u001b[0;36mWebElement._execute\u001b[1;34m(self, command, params)\u001b[0m\n\u001b[0;32m    393\u001b[0m     params \u001b[38;5;241m=\u001b[39m {}\n\u001b[0;32m    394\u001b[0m params[\u001b[38;5;124m\"\u001b[39m\u001b[38;5;124mid\u001b[39m\u001b[38;5;124m\"\u001b[39m] \u001b[38;5;241m=\u001b[39m \u001b[38;5;28mself\u001b[39m\u001b[38;5;241m.\u001b[39m_id\n\u001b[1;32m--> 395\u001b[0m \u001b[38;5;28;01mreturn\u001b[39;00m \u001b[38;5;28mself\u001b[39m\u001b[38;5;241m.\u001b[39m_parent\u001b[38;5;241m.\u001b[39mexecute(command, params)\n",
      "File \u001b[1;32mc:\\Users\\LAP14761-local\\anaconda3\\Lib\\site-packages\\selenium\\webdriver\\remote\\webdriver.py:348\u001b[0m, in \u001b[0;36mWebDriver.execute\u001b[1;34m(self, driver_command, params)\u001b[0m\n\u001b[0;32m    346\u001b[0m response \u001b[38;5;241m=\u001b[39m \u001b[38;5;28mself\u001b[39m\u001b[38;5;241m.\u001b[39mcommand_executor\u001b[38;5;241m.\u001b[39mexecute(driver_command, params)\n\u001b[0;32m    347\u001b[0m \u001b[38;5;28;01mif\u001b[39;00m response:\n\u001b[1;32m--> 348\u001b[0m     \u001b[38;5;28mself\u001b[39m\u001b[38;5;241m.\u001b[39merror_handler\u001b[38;5;241m.\u001b[39mcheck_response(response)\n\u001b[0;32m    349\u001b[0m     response[\u001b[38;5;124m\"\u001b[39m\u001b[38;5;124mvalue\u001b[39m\u001b[38;5;124m\"\u001b[39m] \u001b[38;5;241m=\u001b[39m \u001b[38;5;28mself\u001b[39m\u001b[38;5;241m.\u001b[39m_unwrap_value(response\u001b[38;5;241m.\u001b[39mget(\u001b[38;5;124m\"\u001b[39m\u001b[38;5;124mvalue\u001b[39m\u001b[38;5;124m\"\u001b[39m, \u001b[38;5;28;01mNone\u001b[39;00m))\n\u001b[0;32m    350\u001b[0m     \u001b[38;5;28;01mreturn\u001b[39;00m response\n",
      "File \u001b[1;32mc:\\Users\\LAP14761-local\\anaconda3\\Lib\\site-packages\\selenium\\webdriver\\remote\\errorhandler.py:229\u001b[0m, in \u001b[0;36mErrorHandler.check_response\u001b[1;34m(self, response)\u001b[0m\n\u001b[0;32m    227\u001b[0m         alert_text \u001b[38;5;241m=\u001b[39m value[\u001b[38;5;124m\"\u001b[39m\u001b[38;5;124malert\u001b[39m\u001b[38;5;124m\"\u001b[39m]\u001b[38;5;241m.\u001b[39mget(\u001b[38;5;124m\"\u001b[39m\u001b[38;5;124mtext\u001b[39m\u001b[38;5;124m\"\u001b[39m)\n\u001b[0;32m    228\u001b[0m     \u001b[38;5;28;01mraise\u001b[39;00m exception_class(message, screen, stacktrace, alert_text)  \u001b[38;5;66;03m# type: ignore[call-arg]  # mypy is not smart enough here\u001b[39;00m\n\u001b[1;32m--> 229\u001b[0m \u001b[38;5;28;01mraise\u001b[39;00m exception_class(message, screen, stacktrace)\n",
      "\u001b[1;31mElementClickInterceptedException\u001b[0m: Message: element click intercepted: Element <button type=\"button\" class=\"next-btn next-btn-normal next-btn-medium next-pagination-item next\">...</button> is not clickable at point (788, 523). Other element would receive the click: <div class=\"baxia-dialog-mask\"></div>\n  (Session info: chrome=120.0.6099.130)\nStacktrace:\n\tGetHandleVerifier [0x00007FF705C22142+3514994]\n\t(No symbol) [0x00007FF705840CE2]\n\t(No symbol) [0x00007FF7056E76AA]\n\t(No symbol) [0x00007FF7057388F3]\n\t(No symbol) [0x00007FF7057368ED]\n\t(No symbol) [0x00007FF7057340EC]\n\t(No symbol) [0x00007FF705732EA5]\n\t(No symbol) [0x00007FF705726A0F]\n\t(No symbol) [0x00007FF705755FEA]\n\t(No symbol) [0x00007FF7057263B6]\n\t(No symbol) [0x00007FF705756490]\n\t(No symbol) [0x00007FF7057728F6]\n\t(No symbol) [0x00007FF705755D93]\n\t(No symbol) [0x00007FF705724BDC]\n\t(No symbol) [0x00007FF705725C64]\n\tGetHandleVerifier [0x00007FF705C4E16B+3695259]\n\tGetHandleVerifier [0x00007FF705CA6737+4057191]\n\tGetHandleVerifier [0x00007FF705C9E4E3+4023827]\n\tGetHandleVerifier [0x00007FF7059704F9+689705]\n\t(No symbol) [0x00007FF70584C048]\n\t(No symbol) [0x00007FF705848044]\n\t(No symbol) [0x00007FF7058481C9]\n\t(No symbol) [0x00007FF7058388C4]\n\tBaseThreadInitThunk [0x00007FFB72917344+20]\n\tRtlUserThreadStart [0x00007FFB741A26B1+33]\n"
     ]
    }
   ],
   "source": [
    "next_pagination_cmt = driver.find_element('xpath', '/html/body/div[4]/div/div[10]/div[1]/div[2]/div/div/div/div[3]/div[2]/div/button[2]')\n",
    "next_pagination_cmt.click()\n",
    "\n",
    "close_btn = driver.find_element('xpath', '/html/body/div[7]/div[2]/div')\n",
    "close_btn.click()"
   ]
  },
  {
   "cell_type": "code",
   "execution_count": null,
   "metadata": {},
   "outputs": [],
   "source": []
  }
 ],
 "metadata": {
  "kernelspec": {
   "display_name": "base",
   "language": "python",
   "name": "python3"
  },
  "language_info": {
   "codemirror_mode": {
    "name": "ipython",
    "version": 3
   },
   "file_extension": ".py",
   "mimetype": "text/x-python",
   "name": "python",
   "nbconvert_exporter": "python",
   "pygments_lexer": "ipython3",
   "version": "3.11.5"
  }
 },
 "nbformat": 4,
 "nbformat_minor": 2
}
